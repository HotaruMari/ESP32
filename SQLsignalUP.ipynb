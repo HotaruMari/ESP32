{
 "cells": [
  {
   "cell_type": "markdown",
   "metadata": {},
   "source": [
    "# Envio de datos por script\n",
    "\n",
    "DATABASES = {\n",
    "\n",
    "    'default': {\n",
    "\n",
    "        'ENGINE': 'django.db.backends.mysql',\n",
    "\n",
    "        'NAME': 'bmnjrjw8fttrvk80m4cp',\n",
    "        \n",
    "        'USER': 'ux5kkgzfupavbhwi',\n",
    "        \n",
    "        'PASSWORD': 'esjMYCcpSdyg0qPvMYtj',\n",
    "        \n",
    "        'HOST': 'bmnjrjw8fttrvk80m4cp-mysql.services.clever-cloud.com',\n",
    "        \n",
    "        'PORT': '3306',}}\n"
   ]
  },
  {
   "cell_type": "code",
   "execution_count": 4,
   "metadata": {},
   "outputs": [
    {
     "name": "stdout",
     "output_type": "stream",
     "text": [
      "Checking Credentials...\n",
      "\n",
      "HOST:bmnjrjw8fttrvk80m4cp-mysql.services.clever-cloud.com\n",
      "DB:bmnjrjw8fttrvk80m4cp\n",
      "USER:ux5kkgzfupavbhwi\n",
      "PORT:3306\n",
      "PASSWORD:esjMYCcpSdyg0qPvMYtj\n",
      "\n",
      "Connected!\n",
      "Database `bmnjrjw8fttrvk80m4cp` connected successfully!\n"
     ]
    }
   ],
   "source": [
    "import mysql.connector\n",
    "# Guardar las credenciales de la base de datos a usar\n",
    "cred = {\n",
    " \t'HOST': 'bmnjrjw8fttrvk80m4cp-mysql.services.clever-cloud.com',\n",
    "\t'DB':'bmnjrjw8fttrvk80m4cp',\n",
    "\t'USER':'ux5kkgzfupavbhwi',\n",
    "\t'PORT':'3306',\n",
    "\t'PASSWORD':'esjMYCcpSdyg0qPvMYtj'\n",
    "\t\n",
    "}\n",
    "\n",
    "print('Checking Credentials...\\n')\n",
    "for i in list(cred.keys()):\n",
    "\tprint(f'{i}:{cred[i]}')\t\t# Mostrar al usuario\n",
    "\n",
    "try:\n",
    "\t#Crear la base de datos por medio del msql.connector\n",
    "\tdb = mysql.connector.connect(\n",
    "\t\thost=cred['HOST'],\n",
    "\t\tuser=cred['USER'],\n",
    "\t\tpassword=cred['PASSWORD'],\n",
    "\t\tport=cred['PORT'])\n",
    "\t\n",
    "\tcursor = db.cursor()\t\t#Linea de comando para mandar instrucciones a la base de datos\n",
    "\texecute = cursor.execute\t#Ejecutador de instrucciones\n",
    "\tprint('\\nConnected!')\n",
    "# Si no se puede conectar se hace una excepción mandando un aviso de error\n",
    "except mysql.connector.errors.InterfaceError as e: \n",
    "\tcred['HOST'] = 'unresolved'\n",
    "\tcred['DB']=None\n",
    "\tprint('\\nError: Host unresolved.')\n",
    "\tprint(e)\n",
    "# Si existe una base de datos, conectate a ella.\n",
    "if(cred['DB']):\n",
    "\ttry:\n",
    "\t\texecute(f'use {cred[\"DB\"]};')  #Indica la base de datos a utilizar\n",
    "\t\tprint(f'Database `{cred[\"DB\"]}` connected successfully!')\n",
    "    # Si hay un error de sintaxis:     \n",
    "\texcept mysql.connector.errors.ProgrammingError as e:\n",
    "\t\tprint(f'Error: {e}')\n",
    "\n",
    "\t\n",
    "execute('insert into signalmari(CH1) values (153);')\n",
    "db.commit()"
   ]
  },
  {
   "cell_type": "markdown",
   "metadata": {},
   "source": [
    "- Adquirir y ponerlo en un fromanto para sql\n",
    "  - "
   ]
  }
 ],
 "metadata": {
  "kernelspec": {
   "display_name": "Python 3.10.7 64-bit",
   "language": "python",
   "name": "python3"
  },
  "language_info": {
   "codemirror_mode": {
    "name": "ipython",
    "version": 3
   },
   "file_extension": ".py",
   "mimetype": "text/x-python",
   "name": "python",
   "nbconvert_exporter": "python",
   "pygments_lexer": "ipython3",
   "version": "3.10.7"
  },
  "orig_nbformat": 4,
  "vscode": {
   "interpreter": {
    "hash": "0500ee97a5acf692a3fae68c042a7fe2448beaab5db2844a869d8b9e06d99759"
   }
  }
 },
 "nbformat": 4,
 "nbformat_minor": 2
}
